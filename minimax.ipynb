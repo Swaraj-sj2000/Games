{
  "nbformat": 4,
  "nbformat_minor": 0,
  "metadata": {
    "colab": {
      "provenance": [],
      "include_colab_link": true
    },
    "kernelspec": {
      "name": "python3",
      "display_name": "Python 3"
    },
    "language_info": {
      "name": "python"
    }
  },
  "cells": [
    {
      "cell_type": "markdown",
      "metadata": {
        "id": "view-in-github",
        "colab_type": "text"
      },
      "source": [
        "<a href=\"https://colab.research.google.com/github/Swaraj-sj2000/Games/blob/main/minimax.ipynb\" target=\"_parent\"><img src=\"https://colab.research.google.com/assets/colab-badge.svg\" alt=\"Open In Colab\"/></a>"
      ]
    },
    {
      "cell_type": "code",
      "execution_count": null,
      "metadata": {
        "id": "OqyVQhYtyi7x"
      },
      "outputs": [],
      "source": [
        "def print_tic_tac_toe(l1):\n",
        "  for i in range(len(l1)):\n",
        "    for j in range(len(l1[0])):\n",
        "      print(l1[i][j],end=\" \")\n",
        "    print()\n",
        "  print(\"\\n\")\n",
        "\n",
        "def check_win(l1):\n",
        "  for i in range(3):\n",
        "    if l1[i][0]==l1[i][1]==l1[i][2] or l1[0][i]==l1[1][i]==l1[2][i]:\n",
        "      return True\n",
        "  if l1[0][0]==l1[1][1]==l1[2][2] or l1[0][2]==l1[1][1]==l1[2][0]:\n",
        "    return True\n",
        "\n",
        "def isAvailable(l1,i,j):\n",
        "  if type(l1[i][j])==int:\n",
        "    return True\n",
        "  return False\n"
      ]
    },
    {
      "cell_type": "code",
      "source": [
        "l1= [[j+1+3*i for j in range(3)] for i in range(3)]\n",
        "print(\"choice are as follows\")\n",
        "print_tic_tac_toe(l1)\n",
        "\n",
        "i=0\n",
        "turn=True\n",
        "win=-1\n",
        "\n",
        "while i<9:\n",
        "  print('X turn') if turn else print('@ turn')\n",
        "\n",
        "  choice=int(input(\"Enter choice:\"))-1\n",
        "  row=choice//3\n",
        "  col=(choice%3)\n",
        "\n",
        "\n",
        "  if not (isAvailable(l1,row,col)):\n",
        "    print(\"chosen already\")\n",
        "    continue\n",
        "  if turn:\n",
        "    l1[row][col]='X'\n",
        "    if check_win(l1):\n",
        "      win=0\n",
        "  if not turn:\n",
        "    l1[row][col]='@'\n",
        "    if check_win(l1):\n",
        "      win=1\n",
        "  print_tic_tac_toe(l1)\n",
        "  if win!=-1:\n",
        "    break\n",
        "  i+=1\n",
        "  turn= not turn\n",
        "\n",
        "if win==0:\n",
        "  print(\"X wins\")\n",
        "elif win==1:\n",
        "  print(\"@ wins\")\n",
        "else:\n",
        "  print(\"match draw\")\n",
        "\n",
        "\n",
        "\n"
      ],
      "metadata": {
        "id": "uU530g0M0ERP"
      },
      "execution_count": null,
      "outputs": []
    },
    {
      "cell_type": "code",
      "source": [
        "def print_tic_tac_toe(l1):\n",
        "    for i in range(len(l1)):\n",
        "        for j in range(len(l1[0])):\n",
        "            print(l1[i][j], end=\" \")\n",
        "        print()\n",
        "    print(\"\\n\")\n",
        "\n",
        "def check_win(l1):\n",
        "    for i in range(3):\n",
        "        if l1[i][0] == l1[i][1] == l1[i][2] or l1[0][i] == l1[1][i] == l1[2][i]:\n",
        "            return True\n",
        "    if l1[0][0] == l1[1][1] == l1[2][2] or l1[0][2] == l1[1][1] == l1[2][0]:\n",
        "        return True\n",
        "\n",
        "def is_available(l1, i, j):\n",
        "    return isinstance(l1[i][j], int)\n",
        "\n",
        "def is_board_full(l1):\n",
        "    return all(all(isinstance(cell, str) for cell in row) for row in l1)\n",
        "\n",
        "def minimax(l1, depth, is_maximizing):\n",
        "    if check_win(l1):\n",
        "        return -1 if is_maximizing else 1\n",
        "\n",
        "    if is_board_full(l1):\n",
        "        return 0\n",
        "\n",
        "    if is_maximizing:\n",
        "        max_eval = float('-inf')\n",
        "        for i in range(3):\n",
        "            for j in range(3):\n",
        "                if is_available(l1, i, j):\n",
        "                    l1[i][j] = '@'\n",
        "                    eval = minimax(l1, depth + 1, False)\n",
        "                    l1[i][j] = i * 3 + j + 1\n",
        "                    max_eval = max(max_eval, eval)\n",
        "        return max_eval\n",
        "    else:\n",
        "        min_eval = float('inf')\n",
        "        for i in range(3):\n",
        "            for j in range(3):\n",
        "                if is_available(l1, i, j):\n",
        "                    l1[i][j] = 'X'\n",
        "                    eval = minimax(l1, depth + 1, True)\n",
        "                    l1[i][j] = i * 3 + j + 1\n",
        "                    min_eval = min(min_eval, eval)\n",
        "        return min_eval\n",
        "\n",
        "def find_best_move(l1):\n",
        "    best_val = float('-inf')\n",
        "    best_move = (-1, -1)\n",
        "\n",
        "    for i in range(3):\n",
        "        for j in range(3):\n",
        "            if is_available(l1, i, j):\n",
        "                l1[i][j] = '@'\n",
        "                move_val = minimax(l1, 0, False)\n",
        "                l1[i][j] = i * 3 + j + 1\n",
        "\n",
        "                if move_val > best_val:\n",
        "                    best_move = (i, j)\n",
        "                    best_val = move_val\n",
        "\n",
        "    return best_move"
      ],
      "metadata": {
        "id": "SF04qA68dAeY"
      },
      "execution_count": null,
      "outputs": []
    },
    {
      "cell_type": "code",
      "source": [
        "l1 = [[j + 1 + 3 * i for j in range(3)] for i in range(3)]\n",
        "print(\"Choices are as follows\")\n",
        "print_tic_tac_toe(l1)\n",
        "\n",
        "i = 0\n",
        "win = -1"
      ],
      "metadata": {
        "id": "LiLWnHVaUtfq"
      },
      "execution_count": null,
      "outputs": []
    },
    {
      "cell_type": "code",
      "source": [
        "while i < 9:\n",
        "    print('X turn') if i % 2 == 0 else print('@ turn')\n",
        "\n",
        "    if i % 2 == 0:\n",
        "        while True:\n",
        "            choice = int(input(\"Enter choice:\")) - 1\n",
        "            row, col = divmod(choice, 3)\n",
        "            if is_available(l1, row, col):\n",
        "                break\n",
        "            else:\n",
        "                print(\"Invalid move. Spot already taken. Try again.\")\n",
        "    else:\n",
        "        row, col = find_best_move(l1)\n",
        "        print(f\"AI chooses: {row * 3 + col + 1}\")\n",
        "\n",
        "    l1[row][col] = 'X' if i % 2 == 0 else '@'\n",
        "\n",
        "    if check_win(l1):\n",
        "        print_tic_tac_toe(l1)\n",
        "        print(\"X wins\") if i % 2 == 0 else print(\"@ wins\")\n",
        "        break\n",
        "    elif is_board_full(l1):\n",
        "        print_tic_tac_toe(l1)\n",
        "        print(\"It's a draw!\")\n",
        "        break\n",
        "\n",
        "    print_tic_tac_toe(l1)\n",
        "    i += 1\n"
      ],
      "metadata": {
        "id": "bm9tehErUnvf"
      },
      "execution_count": null,
      "outputs": []
    },
    {
      "cell_type": "code",
      "source": [],
      "metadata": {
        "id": "i5LM3vzgdolB"
      },
      "execution_count": null,
      "outputs": []
    }
  ]
}